{
  "nbformat": 4,
  "nbformat_minor": 0,
  "metadata": {
    "colab": {
      "name": "Vine_Review_Analysis.ipynb",
      "provenance": []
    },
    "kernelspec": {
      "name": "python3",
      "display_name": "Python 3"
    },
    "language_info": {
      "name": "python"
    }
  },
  "cells": [
    {
      "cell_type": "code",
      "metadata": {
        "colab": {
          "base_uri": "https://localhost:8080/"
        },
        "id": "1lbVdErD0TYC",
        "outputId": "c4d99c09-fbcd-4a12-a806-9741196372d5"
      },
      "source": [
        "import os\n",
        "# Find the latest version of spark 2.0  from http://www-us.apache.org/dist/spark/ and enter as the spark version\n",
        "# For example:\n",
        "# spark_version = 'spark-3.0.0'\n",
        "spark_version = 'spark-3.1.2'\n",
        "os.environ['SPARK_VERSION']=spark_version\n",
        "\n",
        "# Install Spark and Java\n",
        "!apt-get update\n",
        "!apt-get install openjdk-11-jdk-headless -qq > /dev/null\n",
        "!wget -q http://www-us.apache.org/dist/spark/$SPARK_VERSION/$SPARK_VERSION-bin-hadoop2.7.tgz\n",
        "!tar xf $SPARK_VERSION-bin-hadoop2.7.tgz\n",
        "!pip install -q findspark\n",
        "\n",
        "# Set Environment Variables\n",
        "import os\n",
        "os.environ[\"JAVA_HOME\"] = \"/usr/lib/jvm/java-11-openjdk-amd64\"\n",
        "os.environ[\"SPARK_HOME\"] = f\"/content/{spark_version}-bin-hadoop2.7\"\n",
        "\n",
        "# Start a SparkSession\n",
        "import findspark\n",
        "findspark.init()"
      ],
      "execution_count": 1,
      "outputs": [
        {
          "output_type": "stream",
          "text": [
            "\r0% [Working]\r            \rGet:1 http://security.ubuntu.com/ubuntu bionic-security InRelease [88.7 kB]\n",
            "\r0% [Connecting to archive.ubuntu.com] [1 InRelease 14.2 kB/88.7 kB 16%] [Connec\r0% [Connecting to archive.ubuntu.com (91.189.88.142)] [Waiting for headers] [Wa\r0% [1 InRelease gpgv 88.7 kB] [Connecting to archive.ubuntu.com (91.189.88.142)\r                                                                               \rGet:2 https://cloud.r-project.org/bin/linux/ubuntu bionic-cran40/ InRelease [3,626 B]\n",
            "Ign:3 https://developer.download.nvidia.com/compute/cuda/repos/ubuntu1804/x86_64  InRelease\n",
            "Get:4 http://ppa.launchpad.net/c2d4u.team/c2d4u4.0+/ubuntu bionic InRelease [15.9 kB]\n",
            "Ign:5 https://developer.download.nvidia.com/compute/machine-learning/repos/ubuntu1804/x86_64  InRelease\n",
            "Get:6 https://developer.download.nvidia.com/compute/cuda/repos/ubuntu1804/x86_64  Release [697 B]\n",
            "Hit:7 https://developer.download.nvidia.com/compute/machine-learning/repos/ubuntu1804/x86_64  Release\n",
            "Get:8 https://developer.download.nvidia.com/compute/cuda/repos/ubuntu1804/x86_64  Release.gpg [836 B]\n",
            "Hit:9 http://archive.ubuntu.com/ubuntu bionic InRelease\n",
            "Get:10 http://archive.ubuntu.com/ubuntu bionic-updates InRelease [88.7 kB]\n",
            "Hit:11 http://ppa.launchpad.net/cran/libgit2/ubuntu bionic InRelease\n",
            "Get:12 http://security.ubuntu.com/ubuntu bionic-security/restricted amd64 Packages [473 kB]\n",
            "Get:13 http://security.ubuntu.com/ubuntu bionic-security/universe amd64 Packages [1,418 kB]\n",
            "Get:14 http://ppa.launchpad.net/deadsnakes/ppa/ubuntu bionic InRelease [15.9 kB]\n",
            "Get:15 http://security.ubuntu.com/ubuntu bionic-security/main amd64 Packages [2,220 kB]\n",
            "Get:16 http://archive.ubuntu.com/ubuntu bionic-backports InRelease [74.6 kB]\n",
            "Get:17 http://ppa.launchpad.net/graphics-drivers/ppa/ubuntu bionic InRelease [21.3 kB]\n",
            "Ign:19 https://developer.download.nvidia.com/compute/cuda/repos/ubuntu1804/x86_64  Packages\n",
            "Get:19 https://developer.download.nvidia.com/compute/cuda/repos/ubuntu1804/x86_64  Packages [599 kB]\n",
            "Get:20 http://ppa.launchpad.net/c2d4u.team/c2d4u4.0+/ubuntu bionic/main Sources [1,777 kB]\n",
            "Get:21 http://archive.ubuntu.com/ubuntu bionic-updates/restricted amd64 Packages [505 kB]\n",
            "Get:22 http://archive.ubuntu.com/ubuntu bionic-updates/main amd64 Packages [2,652 kB]\n",
            "Get:23 http://ppa.launchpad.net/c2d4u.team/c2d4u4.0+/ubuntu bionic/main amd64 Packages [909 kB]\n",
            "Get:24 http://archive.ubuntu.com/ubuntu bionic-updates/universe amd64 Packages [2,188 kB]\n",
            "Get:25 http://ppa.launchpad.net/deadsnakes/ppa/ubuntu bionic/main amd64 Packages [40.9 kB]\n",
            "Get:26 http://ppa.launchpad.net/graphics-drivers/ppa/ubuntu bionic/main amd64 Packages [41.5 kB]\n",
            "Fetched 13.1 MB in 4s (3,207 kB/s)\n",
            "Reading package lists... Done\n"
          ],
          "name": "stdout"
        }
      ]
    },
    {
      "cell_type": "code",
      "metadata": {
        "colab": {
          "base_uri": "https://localhost:8080/"
        },
        "id": "NK__VF9M0cXo",
        "outputId": "12d47e8e-f0e9-464d-9d7b-1e6e0a9e5a07"
      },
      "source": [
        "# Download the Postgres driver that will allow Spark to interact with Postgres.\n",
        "!wget https://jdbc.postgresql.org/download/postgresql-42.2.16.jar"
      ],
      "execution_count": 2,
      "outputs": [
        {
          "output_type": "stream",
          "text": [
            "--2021-06-28 18:12:23--  https://jdbc.postgresql.org/download/postgresql-42.2.16.jar\n",
            "Resolving jdbc.postgresql.org (jdbc.postgresql.org)... 72.32.157.228, 2001:4800:3e1:1::228\n",
            "Connecting to jdbc.postgresql.org (jdbc.postgresql.org)|72.32.157.228|:443... connected.\n",
            "HTTP request sent, awaiting response... 200 OK\n",
            "Length: 1002883 (979K) [application/java-archive]\n",
            "Saving to: ‘postgresql-42.2.16.jar’\n",
            "\n",
            "postgresql-42.2.16. 100%[===================>] 979.38K  4.78MB/s    in 0.2s    \n",
            "\n",
            "2021-06-28 18:12:24 (4.78 MB/s) - ‘postgresql-42.2.16.jar’ saved [1002883/1002883]\n",
            "\n"
          ],
          "name": "stdout"
        }
      ]
    },
    {
      "cell_type": "code",
      "metadata": {
        "id": "csKF-s7x0dDc"
      },
      "source": [
        "from pyspark.sql import SparkSession\n",
        "spark = SparkSession.builder.appName(\"BigData-Challenge\").config(\"spark.driver.extraClassPath\",\"/content/postgresql-42.2.16.jar\").getOrCreate()"
      ],
      "execution_count": 3,
      "outputs": []
    },
    {
      "cell_type": "code",
      "metadata": {
        "colab": {
          "base_uri": "https://localhost:8080/"
        },
        "id": "gSJolpBF0fBi",
        "outputId": "f88a12cd-5a6a-45fa-8c14-34a70127e168"
      },
      "source": [
        "from pyspark import SparkFiles\n",
        "url = \"https://s3.amazonaws.com/amazon-reviews-pds/tsv/amazon_reviews_us_Tools_v1_00.tsv.gz\"\n",
        "spark.sparkContext.addFile(url)\n",
        "df = spark.read.option(\"encoding\", \"UTF-8\").csv(SparkFiles.get(\"amazon_reviews_us_Tools_v1_00.tsv.gz\"), sep=\"\\t\", header=True, inferSchema=True)\n",
        "df.show()"
      ],
      "execution_count": 10,
      "outputs": [
        {
          "output_type": "stream",
          "text": [
            "+-----------+-----------+--------------+----------+--------------+--------------------+----------------+-----------+-------------+-----------+----+-----------------+--------------------+--------------------+-----------+\n",
            "|marketplace|customer_id|     review_id|product_id|product_parent|       product_title|product_category|star_rating|helpful_votes|total_votes|vine|verified_purchase|     review_headline|         review_body|review_date|\n",
            "+-----------+-----------+--------------+----------+--------------+--------------------+----------------+-----------+-------------+-----------+----+-----------------+--------------------+--------------------+-----------+\n",
            "|         US|   15785389|R2UM5QMHBHC90Q|B00H5U9ZD6|     115362950|WallPeg 12 sq ft ...|           Tools|          5|            0|          0|   N|                Y|Great organizer, ...|Very nice. Will o...| 2015-08-31|\n",
            "|         US|   47910848|  RF0D1LEIF6L7|B001TJGCS0|     570955425|Nite Ize Nite Daw...|           Tools|          4|            0|          0|   N|                Y|Like it, but the ...|Like it, but the ...| 2015-08-31|\n",
            "|         US|   36328996|  RM6YKIWQVNSY|B000NIK8JW|     128843593|Stanley 84-058 4 ...|           Tools|          1|            6|          6|   N|                Y|        poor quality|We were excited t...| 2015-08-31|\n",
            "|         US|   51785809|R1RL3L68ASPS36|B008ZYRGUA|     407828107|Powerextra 14.4V ...|           Tools|          4|            0|          0|   N|                Y|          Four Stars|Quick delivery. P...| 2015-08-31|\n",
            "|         US|   40757491|R1U4XFBFAG34CY|B00K5CA0GC|     490746675|Waterproof Invisi...|           Tools|          5|            0|          0|   N|                Y|          Five Stars|Quality waterproo...| 2015-08-31|\n",
            "|         US|   35544833|R3KFIK8P0I91PL|B00AIJAA94|     148352067|Crime Scene Do No...|           Tools|          5|            0|          0|   N|                Y|Excellent Decorat...|Ordered for my hu...| 2015-08-31|\n",
            "|         US|   16474909| RENOAY76PPK1O|B00JKEI6K8|     331801084|Aweek® 2 Pcs Bicy...|           Tools|          5|            0|          0|   N|                Y|          Five Stars|GREAT SELLER PROD...| 2015-08-31|\n",
            "|         US|   22601598| RINV884I0NL5V|B00AGCHVS6|     471514859|Ryobi P102 Genuin...|           Tools|          1|            0|          0|   N|                Y|Worked great for ...|My battery has di...| 2015-08-31|\n",
            "|         US|   16129808| R5KJH6CXZH2PX|B002S0O7U4|     162253576|Wiha 66995 6-Piec...|           Tools|          5|            0|          0|   N|                Y|       Great quality|Great product at ...| 2015-08-31|\n",
            "|         US|   24382335| RO69JF6QWD0W1|B0084YHXMW|      69530650|TOMTOP LED Submar...|           Tools|          5|            0|          0|   N|                Y|          Five Stars|           Excellent| 2015-08-31|\n",
            "|         US|   49796324|R3L9NQBH3FI55C|B00MLSS1SW|     916693555|Black & Decker BD...|           Tools|          4|            1|          1|   N|                Y|Really worked great!|This little sande...| 2015-08-31|\n",
            "|         US|   33289687| R4YH95YPHVU0C|B00D4WLS2A|      39333316|Crain 126 Staple ...|           Tools|          5|            0|          0|   N|                Y|         LOVE IT!!!!|This is the most ...| 2015-08-31|\n",
            "|         US|   10916386|R10M1WWDDQBGG2|B00JGCDV5Y|     550596607|Diamond Semi Roun...|           Tools|          2|            0|          0|   N|                Y|I needed to cut s...|I needed to cut s...| 2015-08-31|\n",
            "|         US|   34071500| RV3KWQBTNIO62|B00N0PS3YM|     735538025|It Mall 9 LED 375...|           Tools|          5|            1|          1|   N|                Y|   Works pretty well|Lights up small d...| 2015-08-31|\n",
            "|         US|   50594486|R1M7YUNLZI0G9F|B0000DD4KV|     506501960|IRWIN Tools Metri...|           Tools|          5|            1|          1|   N|                Y|          Five Stars|Great product for...| 2015-08-31|\n",
            "|         US|   21945887|R2MTL2D4E4HEF4|B0009H5FB8|     268586246|743022-A Backing ...|           Tools|          5|            0|          0|   N|                Y|          Five Stars|Many thanks for t...| 2015-08-31|\n",
            "|         US|   47749608| RXAHWIC1584UQ|B00NKSMPZW|     824618679|ClearArmor 141001...|           Tools|          5|           20|         23|   N|                Y|          Five Stars|geart product :) ...| 2015-08-31|\n",
            "|         US|   48880662| RMOIQFERVQDWS|B00RBAB92K|     156791442|KKmoon 9cm Mini A...|           Tools|          5|            0|          0|   N|                Y|          Five Stars|           very good| 2015-08-31|\n",
            "|         US|    4660265| R710G45MKODY9|B00QGBNZVI|     962324810|Refun E6 High Pow...|           Tools|          2|            1|          1|   N|                Y|           Two Stars|Scratches on lenses.| 2015-08-31|\n",
            "|         US|   18397238|R23ZIUGUM7TBMY|B00XXU3CDG|     543062309|Dr.meter S20 Mois...|           Tools|          1|            0|          1|   N|                Y|Don't waste your ...|It's a piece of $...| 2015-08-31|\n",
            "+-----------+-----------+--------------+----------+--------------+--------------------+----------------+-----------+-------------+-----------+----+-----------------+--------------------+--------------------+-----------+\n",
            "only showing top 20 rows\n",
            "\n"
          ],
          "name": "stdout"
        }
      ]
    },
    {
      "cell_type": "code",
      "metadata": {
        "id": "o4-EBlgU0gt7"
      },
      "source": [
        "\n",
        "from pyspark.sql.functions import to_date\n",
        "# Read in the Review dataset as a DataFrame\n"
      ],
      "execution_count": 11,
      "outputs": []
    },
    {
      "cell_type": "code",
      "metadata": {
        "colab": {
          "base_uri": "https://localhost:8080/"
        },
        "id": "duSw7S780imy",
        "outputId": "00d6505f-0e0a-43f4-a04a-f58e919b3a93"
      },
      "source": [
        "# filter dataframe for total votes that are equal to or greater than 20.\n",
        "df1 = df.filter(df.total_votes >= 20)\n",
        "df1.count()"
      ],
      "execution_count": 12,
      "outputs": [
        {
          "output_type": "execute_result",
          "data": {
            "text/plain": [
              "35312"
            ]
          },
          "metadata": {
            "tags": []
          },
          "execution_count": 12
        }
      ]
    },
    {
      "cell_type": "code",
      "metadata": {
        "colab": {
          "base_uri": "https://localhost:8080/"
        },
        "id": "WIRk28-m2-lY",
        "outputId": "3274993d-0027-467a-9536-d8d5a767b0db"
      },
      "source": [
        "# create new DF where helpful votes divided by total votes that equal greater than 50%\n",
        "df2= df1.filter((df1.helpful_votes / df1.total_votes) >= 0.5)\n",
        "df2.count()"
      ],
      "execution_count": 13,
      "outputs": [
        {
          "output_type": "execute_result",
          "data": {
            "text/plain": [
              "31830"
            ]
          },
          "metadata": {
            "tags": []
          },
          "execution_count": 13
        }
      ]
    },
    {
      "cell_type": "code",
      "metadata": {
        "colab": {
          "base_uri": "https://localhost:8080/"
        },
        "id": "vQPzR1i530GQ",
        "outputId": "75ad8c0c-ebd0-490c-9650-b60a391a3803"
      },
      "source": [
        "# filter the DF and create new DF showing all rows where a paid review is present as part of the vine program (v=='y')\n",
        "paid_df = df2.filter(df2.vine == 'Y')\n",
        "paid_df.show()"
      ],
      "execution_count": 23,
      "outputs": [
        {
          "output_type": "stream",
          "text": [
            "+-----------+-----------+--------------+----------+--------------+--------------------+----------------+-----------+-------------+-----------+----+-----------------+--------------------+--------------------+-----------+\n",
            "|marketplace|customer_id|     review_id|product_id|product_parent|       product_title|product_category|star_rating|helpful_votes|total_votes|vine|verified_purchase|     review_headline|         review_body|review_date|\n",
            "+-----------+-----------+--------------+----------+--------------+--------------------+----------------+-----------+-------------+-----------+----+-----------------+--------------------+--------------------+-----------+\n",
            "|         US|   21084288|R3QIQRG107AP19|B00OJ72LHK|     369815253|BLACK+DECKER BDEJ...|           Tools|          5|           38|         41|   Y|                N|Essential home ow...|We are not pros. ...| 2015-08-27|\n",
            "|         US|   52512530|R1ZNBHGCYE8VN1|B00OJ72LHK|     369815253|BLACK+DECKER BDEJ...|           Tools|          5|          175|        181|   Y|                N|Black and Decker ...|My commercial Ski...| 2015-08-25|\n",
            "|         US|   18255047|R1BNZJ9IKGRBC2|B00OJ72LHK|     369815253|BLACK+DECKER BDEJ...|           Tools|          4|           63|         70|   Y|                N|        A Good Value|I have gotten to ...| 2015-08-19|\n",
            "|         US|   35334320|R2IXTN4PBRHBO2|B00T3QBWAE|     854337170|SOG Survival Hawk...|           Tools|          5|           19|         24|   Y|                N|Absolutely Fantas...|This is an awesom...| 2015-07-20|\n",
            "|         US|   50458463|R32AOW3L09SYMQ|B00T3QBYIO|     614295243|SOG Specialty Kni...|           Tools|          5|           29|         34|   Y|                N|  Perfectly Portable|While not a full-...| 2015-07-18|\n",
            "|         US|   42689422|R34Z4VTLF7PC6X|B00T9RANUC|     724678300|FLIR Compact Ther...|           Tools|          4|           33|         36|   Y|                N|Great FLIR System...|Very easy to use ...| 2015-07-17|\n",
            "|         US|   43791073|R25403NE9JCRZZ|B00TT9X4L0|     175604994|SOG SwitchPlier 2...|           Tools|          2|           36|         40|   Y|                N|I was excited to ...|I carry a pocket ...| 2015-07-15|\n",
            "|         US|   20389093|R2QT2G3YRGC0PS|B00TT9X4L0|     175604994|SOG SwitchPlier 2...|           Tools|          5|           18|         20|   Y|                N|Love these - grea...|[[VIDEOID:91b7236...| 2015-07-06|\n",
            "|         US|   40538153| RDUP15OURNUSA|B00T4N5Y32|     759292408|SOG Specialty Kni...|           Tools|          5|           22|         23|   Y|                N|Great knife for e...|This is my Husban...| 2015-06-24|\n",
            "|         US|   52205658|R1EI4NZTG7G14F|B00TXWJ7KA|     488279439|SOG Throwing Kniv...|           Tools|          5|           17|         23|   Y|                N|Great Gift for Ex...|These throwing kn...| 2015-06-21|\n",
            "|         US|   23094354|R2G0YB0MC67NLG|B00TXWJ7KA|     488279439|SOG Throwing Kniv...|           Tools|          5|           29|         38|   Y|                N|Absolutely Fantas...|Let's start off w...| 2015-06-20|\n",
            "|         US|   51929180| RGA1PHAE93JR2|B00SBGCXFA|     270304375|Bora 542006 WTX S...|           Tools|          1|           16|         21|   Y|                N|Plastic … Flexes ...|When you’re cutti...| 2015-06-13|\n",
            "|         US|   52532594|R1QS5MKSKOGG0U|B00RCYX58G|     166815054|TEKTON 1/4-Inch a...|           Tools|          5|           15|         20|   Y|                N|        Complete Set|This is a very co...| 2015-06-09|\n",
            "|         US|   52554722|R3MVW880K2V5BK|B00SBGCXFA|     270304375|Bora 542006 WTX S...|           Tools|          3|           37|         46|   Y|                N|A little less tha...|[[VIDEOID:d21361a...| 2015-06-04|\n",
            "|         US|   30092914|R11JKXPSMHSZY1|B00UHNM60C|     769154216|Gallon 150 PSI Oi...|           Tools|          4|           21|         28|   Y|                N|This is a handy k...|This is a great s...| 2015-05-31|\n",
            "|         US|   53006768|  RSPSTXGY3OD8|B00VJYWRKW|     403339751|TEKTON 28301 Ever...|           Tools|          5|           29|         33|   Y|                N|Good Quality Kit ...|Tech Rescue<br />...| 2015-05-31|\n",
            "|         US|   52554722| RQO0NNMNWRLB4|B00UHNM1TI|     769154216|Gallon 150 PSI Oi...|           Tools|          3|           47|         54|   Y|                N|               RTFM?|[[VIDEOID:c3a0429...| 2015-05-26|\n",
            "|         US|   35360512|R3H5BSP5KCFHBG|B00OKGAURI|     676843495|SKILSAW SPT67WL-0...|           Tools|          4|           19|         21|   Y|                N|Read on to get an...|I am far from bei...| 2015-05-22|\n",
            "|         US|   51771760|R2AIJIWME1WDKN|B00UHNM1R0|     769154216|Gallon 150 PSI Oi...|           Tools|          5|           16|         24|   Y|                N|Great upgrade for...|[[VIDEOID:41c52b1...| 2015-05-16|\n",
            "|         US|   49956844| R585MGH89JZZ5|B00VI7WBWE|     644331624|Bosch GLM 35 Lase...|           Tools|          5|           27|         34|   Y|                N|Love Using the GL...|I recently had so...| 2015-05-10|\n",
            "+-----------+-----------+--------------+----------+--------------+--------------------+----------------+-----------+-------------+-----------+----+-----------------+--------------------+--------------------+-----------+\n",
            "only showing top 20 rows\n",
            "\n"
          ],
          "name": "stdout"
        }
      ]
    },
    {
      "cell_type": "code",
      "metadata": {
        "colab": {
          "base_uri": "https://localhost:8080/"
        },
        "id": "wDZ7vxb64akx",
        "outputId": "0f9be8e4-ee57-4eb2-fb36-22314565b006"
      },
      "source": [
        "# filter the DF and create new DF showing all rows where a paid review is not present as part of the vine program (v=='n')\n",
        "unpaid_df = df2.filter(df2.vine == 'N')\n",
        "unpaid_df.show()"
      ],
      "execution_count": 24,
      "outputs": [
        {
          "output_type": "stream",
          "text": [
            "+-----------+-----------+--------------+----------+--------------+--------------------+----------------+-----------+-------------+-----------+----+-----------------+--------------------+--------------------+-----------+\n",
            "|marketplace|customer_id|     review_id|product_id|product_parent|       product_title|product_category|star_rating|helpful_votes|total_votes|vine|verified_purchase|     review_headline|         review_body|review_date|\n",
            "+-----------+-----------+--------------+----------+--------------+--------------------+----------------+-----------+-------------+-----------+----+-----------------+--------------------+--------------------+-----------+\n",
            "|         US|   47749608| RXAHWIC1584UQ|B00NKSMPZW|     824618679|ClearArmor 141001...|           Tools|          5|           20|         23|   N|                Y|          Five Stars|geart product :) ...| 2015-08-31|\n",
            "|         US|   53082915| RSBELAIC899DO|B00LPFIPPQ|     848632692|WEN 6510 Oscillating|           Tools|          5|           46|         51|   N|                Y|Professional sand...|I don't have a lo...| 2015-08-31|\n",
            "|         US|   37584068|R2HCC4CJ59D225|B00QS9R9W4|     883778437|Skilled Crafter L...|           Tools|          4|           43|         43|   N|                Y|Happy with my pur...|Good hole puncher...| 2015-08-31|\n",
            "|         US|   36879864| RL9VF9WXHEHKR|B00F5VUS1U|     133481526|Big Horn 14350 Do...|           Tools|          5|           35|         36|   N|                Y|        Game changer|If you're looking...| 2015-08-31|\n",
            "|         US|   25655711|R1ZINLWUOLTZ46|B007NVSTCK|     543991951|DEWALT DCS380B 20...|           Tools|          1|           39|         45|   N|                N|     Dont buy dewalt|If I could, I'd g...| 2015-08-31|\n",
            "|         US|   27471798|R1CQKM1K1CHOHS|B000H12DQ6|     206229938|Bosch RA1181 Benc...|           Tools|          1|           21|         22|   N|                N|Who are these idi...|I downloaded the ...| 2015-08-31|\n",
            "|         US|   16581575| R2DHAM7J1KMWN|B00XUF5D7M|     223493368|Refun SK98 900 Hi...|           Tools|          5|           23|         24|   N|                N|Excellent small f...|-Seems to be just...| 2015-08-30|\n",
            "|         US|   33677339|R26EZ2INBETPU2|B00NH3E95Y|     157093972|Rotorazer Multi-p...|           Tools|          1|          103|        128|   N|                N|    Save your money.|I tried to think ...| 2015-08-30|\n",
            "|         US|    2445253|R265ZMDO2ISN1O|B00X52TZYM|     386918330|DEWALT DCS361M1 2...|           Tools|          5|           20|         21|   N|                Y|    Great little saw|I'm very happy wi...| 2015-08-30|\n",
            "|         US|   51156831|R3NZ7JTOCPYE1S|B000WGHZYG|     380976269|10 Pack 4-1/2\" Au...|           Tools|          4|           32|         33|   N|                Y|Better than expec...|Respectable quali...| 2015-08-30|\n",
            "|         US|   18881762|R15JJ5AGVSB71T|B00S9ZIEEW|     767610957|Ernst Manufacturi...|           Tools|          5|           33|         33|   N|                Y|           Organized|I bought an 87 pi...| 2015-08-29|\n",
            "|         US|   21857034|R28WDBNT2XRACG|B005IGI350|     400241559|POWERTEC PL1251 1...|           Tools|          1|           19|         24|   N|                Y|    Too Cheap for Me|Didn't expect muc...| 2015-08-29|\n",
            "|         US|   34132219|R3HP224QDFQ2SN|B00QS9R9W4|     883778437|Skilled Crafter L...|           Tools|          5|           21|         22|   N|                Y|Amazing Tool, Out...|This leather hole...| 2015-08-29|\n",
            "|         US|   43737304| RTURVI4KNPMG1|B00U0ILXGC|      27558967|Gerber Fixed Blad...|           Tools|          5|          146|        154|   N|                Y|10 out of 10 for ...|Gerber StrongArm....| 2015-08-29|\n",
            "|         US|      78935| RH2BXZ337F38J|B001I9UNWC|     431672706|GRR-RIPPER 3D Pus...|           Tools|          5|           62|         66|   N|                Y|The best push-blo...|With any tool, sa...| 2015-08-29|\n",
            "|         US|   47244625|R3G8L2NRMZZHPI|B00ZZGJ852|      61900073|Padlock Picks Doo...|           Tools|          4|           23|         23|   N|                Y|Contains at least...|Generally impress...| 2015-08-29|\n",
            "|         US|   47942565|R21Q3I2ZEDSMZK|B00QZLV03O|     191744402|Nanch Precision S...|           Tools|          5|           80|         84|   N|                Y|Very well designe...|I must admit I wa...| 2015-08-29|\n",
            "|         US|    1518688|R16MXXKY0MRKZW|B00J3GRH9Y|     709251732|SKYRAY 2017 Tacti...|           Tools|          1|           48|         52|   N|                Y|DON'T make my mis...|DON'T make my mis...| 2015-08-29|\n",
            "|         US|   44128413|R121P6RES3Z7WC|B003TU0XG4|     545831295|Dremel 7300-PT 4....|           Tools|          1|          145|        162|   N|                Y|Pieces don't fit ...|So I got this out...| 2015-08-28|\n",
            "|         US|   19691221|R1ILUNGUCRZGF3|B0083R3DHO|     409382267|Azar 326043 12-In...|           Tools|          5|           21|         21|   N|                Y|Great quality pro...|Great quality pro...| 2015-08-28|\n",
            "+-----------+-----------+--------------+----------+--------------+--------------------+----------------+-----------+-------------+-----------+----+-----------------+--------------------+--------------------+-----------+\n",
            "only showing top 20 rows\n",
            "\n"
          ],
          "name": "stdout"
        }
      ]
    },
    {
      "cell_type": "code",
      "metadata": {
        "colab": {
          "base_uri": "https://localhost:8080/"
        },
        "id": "bZmEIHDb4gjd",
        "outputId": "8eaa4de0-6e6c-42bc-8799-0c0aa073fa9c"
      },
      "source": [
        "# Determine the total number of reviews for Vine containing products.\n",
        "total_paid = paid_df.count()\n",
        "total_paid"
      ],
      "execution_count": 26,
      "outputs": [
        {
          "output_type": "execute_result",
          "data": {
            "text/plain": [
              "285"
            ]
          },
          "metadata": {
            "tags": []
          },
          "execution_count": 26
        }
      ]
    },
    {
      "cell_type": "code",
      "metadata": {
        "colab": {
          "base_uri": "https://localhost:8080/"
        },
        "id": "dFEV2DIt5C6h",
        "outputId": "e5f2dfe9-f008-4dd9-9e47-8588ffd56e94"
      },
      "source": [
        "# Determine the total number fo 5 star reviews for Vine containing products.\n",
        "paid_five = paid_df.filter(paid_df.star_rating == 5).count()\n",
        "paid_five"
      ],
      "execution_count": 31,
      "outputs": [
        {
          "output_type": "execute_result",
          "data": {
            "text/plain": [
              "163"
            ]
          },
          "metadata": {
            "tags": []
          },
          "execution_count": 31
        }
      ]
    },
    {
      "cell_type": "code",
      "metadata": {
        "colab": {
          "base_uri": "https://localhost:8080/"
        },
        "id": "Yes36kWG5CzU",
        "outputId": "32dc23bd-b544-4805-de96-ad4c38ca1823"
      },
      "source": [
        "# Determine the percentage of 5 star reviews for Vine containing products.\n",
        "paid_percent = (paid_five/total_paid)*100\n",
        "paid_percent"
      ],
      "execution_count": 29,
      "outputs": [
        {
          "output_type": "execute_result",
          "data": {
            "text/plain": [
              "57.19298245614035"
            ]
          },
          "metadata": {
            "tags": []
          },
          "execution_count": 29
        }
      ]
    },
    {
      "cell_type": "code",
      "metadata": {
        "colab": {
          "base_uri": "https://localhost:8080/"
        },
        "id": "z94XeIkK5CsL",
        "outputId": "4a53af91-3a27-4b6e-bbde-e9cdff969580"
      },
      "source": [
        "# Determine the total number of reviews for NON Vine containing products.\n",
        "total_unpaid = unpaid_df.count()\n",
        "total_unpaid"
      ],
      "execution_count": 30,
      "outputs": [
        {
          "output_type": "execute_result",
          "data": {
            "text/plain": [
              "31545"
            ]
          },
          "metadata": {
            "tags": []
          },
          "execution_count": 30
        }
      ]
    },
    {
      "cell_type": "code",
      "metadata": {
        "colab": {
          "base_uri": "https://localhost:8080/"
        },
        "id": "pHuKD4tX5CkK",
        "outputId": "978a65da-c448-4e7c-ff31-a232a2afaeaa"
      },
      "source": [
        "# Determine the total number fo 5 star reviews for NON Vine containing products.\n",
        "unpaid_five = unpaid_df.filter(unpaid_df.star_rating ==5).count()\n",
        "unpaid_five"
      ],
      "execution_count": 32,
      "outputs": [
        {
          "output_type": "execute_result",
          "data": {
            "text/plain": [
              "14614"
            ]
          },
          "metadata": {
            "tags": []
          },
          "execution_count": 32
        }
      ]
    },
    {
      "cell_type": "code",
      "metadata": {
        "colab": {
          "base_uri": "https://localhost:8080/"
        },
        "id": "4JLYQtsZ45a5",
        "outputId": "51aedb39-799d-4053-832e-1967dc4506f5"
      },
      "source": [
        "# Determine the percentage of 5 star reviews for NON Vine containing products.\n",
        "unpaid_percent = (unpaid_five/total_unpaid)*100\n",
        "unpaid_percent"
      ],
      "execution_count": 34,
      "outputs": [
        {
          "output_type": "execute_result",
          "data": {
            "text/plain": [
              "46.32746869551435"
            ]
          },
          "metadata": {
            "tags": []
          },
          "execution_count": 34
        }
      ]
    },
    {
      "cell_type": "code",
      "metadata": {
        "id": "4RcRFVVk-fEn"
      },
      "source": [
        ""
      ],
      "execution_count": null,
      "outputs": []
    }
  ]
}